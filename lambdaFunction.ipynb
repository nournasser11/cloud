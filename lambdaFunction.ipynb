{
  "nbformat": 4,
  "nbformat_minor": 0,
  "metadata": {
    "colab": {
      "provenance": []
    },
    "kernelspec": {
      "name": "python3",
      "display_name": "Python 3"
    },
    "language_info": {
      "name": "python"
    }
  },
  "cells": [
    {
      "cell_type": "code",
      "execution_count": null,
      "metadata": {
        "id": "tN_4FJboJJTE"
      },
      "outputs": [],
      "source": [
        "import json\n",
        "import boto3\n",
        "\n",
        "dynamodb = boto3.resource('dynamodb')\n",
        "table = dynamodb.Table('Orders')\n",
        "\n",
        "def lambda_handler(event, context):\n",
        "    for record in event['Records']:\n",
        "        try:\n",
        "            message = json.loads(record['body'])\n",
        "            table.put_item(Item=message)\n",
        "            print(\"Inserted:\", message)\n",
        "        except Exception as e:\n",
        "            print(\"Error:\", e)\n",
        "            raise e\n"
      ]
    }
  ]
}